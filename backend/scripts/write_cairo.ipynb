{
 "cells": [
  {
   "cell_type": "code",
   "execution_count": 1,
   "metadata": {},
   "outputs": [
    {
     "ename": "ModuleNotFoundError",
     "evalue": "No module named 'starknet_py'",
     "output_type": "error",
     "traceback": [
      "\u001b[1;31m---------------------------------------------------------------------------\u001b[0m",
      "\u001b[1;31mModuleNotFoundError\u001b[0m                       Traceback (most recent call last)",
      "Input \u001b[1;32mIn [1]\u001b[0m, in \u001b[0;36m<cell line: 1>\u001b[1;34m()\u001b[0m\n\u001b[1;32m----> 1\u001b[0m \u001b[38;5;28;01mfrom\u001b[39;00m \u001b[38;5;21;01mstarknet_py\u001b[39;00m\u001b[38;5;21;01m.\u001b[39;00m\u001b[38;5;21;01mcontract\u001b[39;00m \u001b[38;5;28;01mimport\u001b[39;00m Contract\n\u001b[0;32m      2\u001b[0m \u001b[38;5;28;01mfrom\u001b[39;00m \u001b[38;5;21;01mstarknet_py\u001b[39;00m\u001b[38;5;21;01m.\u001b[39;00m\u001b[38;5;21;01mnet\u001b[39;00m\u001b[38;5;21;01m.\u001b[39;00m\u001b[38;5;21;01mfull_node_client\u001b[39;00m \u001b[38;5;28;01mimport\u001b[39;00m FullNodeClient\n\u001b[0;32m      3\u001b[0m \u001b[38;5;28;01mfrom\u001b[39;00m \u001b[38;5;21;01mstarknet_py\u001b[39;00m\u001b[38;5;21;01m.\u001b[39;00m\u001b[38;5;21;01mnet\u001b[39;00m\u001b[38;5;21;01m.\u001b[39;00m\u001b[38;5;21;01maccount\u001b[39;00m\u001b[38;5;21;01m.\u001b[39;00m\u001b[38;5;21;01maccount\u001b[39;00m \u001b[38;5;28;01mimport\u001b[39;00m Account\n",
      "\u001b[1;31mModuleNotFoundError\u001b[0m: No module named 'starknet_py'"
     ]
    }
   ],
   "source": [
    "from starknet_py.contract import Contract\n",
    "from starknet_py.net.full_node_client import FullNodeClient\n",
    "from starknet_py.net.account.account import Account\n",
    "from starknet_py.net.models.chains import StarknetChainId\n",
    "from starknet_py.net.signer.stark_curve_signer import KeyPair\n",
    "\n",
    "# Creates an instance of account which is already deployed\n",
    "# Account using transaction version=1 (has __validate__ function)\n",
    "client = FullNodeClient(node_url=\"https://starknet-sepolia.public.blastapi.io\")\n",
    "account = Account(\n",
    "    client=client,\n",
    "    address=\"0x76bdf959a39886e730d3aab41caee59d847f3ecc28d2b4f34db99bdfe81940a\",\n",
    "    key_pair=KeyPair(private_key=0xa7dd6dd47471c4ae2731b83c0204b4e4065602b04079a82af44e7d9a26ca7e\n",
    ", public_key=0x1ea78131e5d15b2aac3079c2ab342d51a278773f81c2d809294f4a3212c2add),\n",
    "    chain=StarknetChainId.SEPOLIA,\n",
    ")\n",
    "\n",
    "\n",
    "contract = await Contract.from_address(provider=account, address=\"0x07c2402a987d463f0c5fcdd51c597c0547ef4079443f785cc18b0a0239924098\")\n"
   ]
  }
 ],
 "metadata": {
  "kernelspec": {
   "display_name": "Python 3",
   "language": "python",
   "name": "python3"
  },
  "language_info": {
   "codemirror_mode": {
    "name": "ipython",
    "version": 3
   },
   "file_extension": ".py",
   "mimetype": "text/x-python",
   "name": "python",
   "nbconvert_exporter": "python",
   "pygments_lexer": "ipython3",
   "version": "3.9.13"
  }
 },
 "nbformat": 4,
 "nbformat_minor": 2
}
